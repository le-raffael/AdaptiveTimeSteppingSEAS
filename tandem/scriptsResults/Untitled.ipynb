{
 "cells": [
  {
   "cell_type": "code",
   "execution_count": null,
   "metadata": {},
   "outputs": [],
   "source": [
    "import numpy as np \n",
    "import matplotlib.pyplot as plt\n",
    "import matplotlib.colors as colors\n",
    "import matplotlib.cbook as cbook\n",
    "import csv"
   ]
  },
  {
   "cell_type": "code",
   "execution_count": null,
   "metadata": {},
   "outputs": [],
   "source": [
    "time_array_RKDP5 = []\n",
    "dt_array_RKDP5 = []\n",
    "V_array_RKDP5 = []\n",
    "rhs_count_array_RKDP5 = []\n",
    "time_old = 0.0\n",
    "\n",
    "with open('../build/timeAnalysis_RKDP5.csv', newline='') as csvfile:\n",
    "    reader = csv.DictReader(csvfile)\n",
    "    for row in reader:\n",
    "        time = row['time']\n",
    "        dt = float(time) - time_old\n",
    "        time_old = float(time)\n",
    "        time_array_RKDP5.append(time)\n",
    "        dt_array_RKDP5.append(dt)\n",
    "        \n",
    "        V_array_RKDP5.append(row['Vmax'])\n",
    "        rhs_count_array_RKDP5.append(row['count_rhs'])\n",
    "        \n",
    "time_array_RKDP5 = np.asarray(time_array_RKDP5, dtype=np.float32)\n",
    "V_array_RKDP5 = np.asarray(V_array_RKDP5, dtype=np.float32)\n",
    "rhs_count_array_RKDP5 = np.asarray(rhs_count_array_RKDP5, dtype=np.float32)\n"
   ]
  },
  {
   "cell_type": "code",
   "execution_count": null,
   "metadata": {},
   "outputs": [],
   "source": [
    "time_array_BDF = []\n",
    "dt_array_BDF = []\n",
    "V_array_BDF = []\n",
    "rhs_count_array_BDF = []\n",
    "time_old = 0.0\n",
    "\n",
    "with open('../build/timeAnalysis_BDF.csv', newline='') as csvfile:\n",
    "    reader = csv.DictReader(csvfile)\n",
    "    for row in reader:\n",
    "        time = row['time']\n",
    "        dt = float(time) - time_old\n",
    "        time_old = float(time)\n",
    "        time_array_BDF.append(time)\n",
    "        dt_array_BDF.append(dt)\n",
    "        \n",
    "        V_array_BDF.append(row['Vmax'])\n",
    "        rhs_count_array_BDF.append(row['count_rhs'])\n",
    "        \n",
    "time_array_BDF = np.asarray(time_array_BDF, dtype=np.float32)\n",
    "V_array_BDF = np.asarray(V_array_BDF, dtype=np.float32)\n",
    "rhs_count_array_BDF = np.asarray(rhs_count_array_BDF, dtype=np.float32)\n"
   ]
  },
  {
   "cell_type": "code",
   "execution_count": null,
   "metadata": {},
   "outputs": [],
   "source": [
    "plt.figure(figsize=(10.00,7.00))\n",
    "plt.rcParams.update({'font.size': 18})\n",
    "\n",
    "plt.plot(time_array_RKF45, dt_array_RKDP5,'xb', label = \"RKDP5\")\n",
    "#plt.plot(time_array_RKF45, dt_array_RKDP5,'xb', label = \"BDF\")\n",
    "\n",
    "plt.xlabel(\"time\")\n",
    "plt.ylabel(\"h\")\n",
    "\n",
    "plt.yscale('log')\n",
    "\n",
    "#plt.ylim(1e-3, 1)\n",
    "\n",
    "plt.legend()\n",
    "\n",
    "plt.savefig('../results/timeEvolutionDT.png', format='png',dpi=300)\n",
    "\n",
    "plt.show()\n"
   ]
  }
 ],
 "metadata": {
  "kernelspec": {
   "display_name": "Python 3",
   "language": "python",
   "name": "python3"
  },
  "language_info": {
   "codemirror_mode": {
    "name": "ipython",
    "version": 3
   },
   "file_extension": ".py",
   "mimetype": "text/x-python",
   "name": "python",
   "nbconvert_exporter": "python",
   "pygments_lexer": "ipython3",
   "version": "3.6.9"
  }
 },
 "nbformat": 4,
 "nbformat_minor": 4
}
