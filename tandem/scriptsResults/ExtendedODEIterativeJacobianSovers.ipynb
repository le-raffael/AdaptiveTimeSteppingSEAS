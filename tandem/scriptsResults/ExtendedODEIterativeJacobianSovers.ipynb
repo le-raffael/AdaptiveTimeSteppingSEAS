{
 "cells": [
  {
   "cell_type": "code",
   "execution_count": 2,
   "metadata": {},
   "outputs": [],
   "source": [
    "import numpy as np\n",
    "import sys\n",
    "import matplotlib.pyplot as plt\n",
    "import matplotlib.colors as colors\n",
    "import matplotlib.cbook as cbook\n",
    "import csv\n",
    "import pylab\n",
    "from scipy.interpolate import interp1d\n",
    "\n",
    "\n",
    "np.set_printoptions(threshold=sys.maxsize)\n",
    "\n",
    "\n",
    "\n",
    "begin_surroundings = 198\n",
    "end_surroundings = 206\n",
    "\n",
    "#begin_earthquake = 6259313254\n",
    "begin_earthquake = 6259295000\n",
    "end_earthquake =   6259320000\n"
   ]
  },
  {
   "cell_type": "code",
   "execution_count": 3,
   "metadata": {},
   "outputs": [],
   "source": [
    "time_list_Jacobi = []\n",
    "dt_array_Jacobi = []\n",
    "V_array_Jacobi = []\n",
    "F_array_Jacobi = []\n",
    "ksp_array_Jacobi = []\n",
    "rhs_array_Jacobi = []\n",
    "time_old = 0.0\n",
    "\n",
    "#don't plot first two components\n",
    "first = 1\n",
    "second = 1\n",
    "\n",
    "with open('../results/TANDEM_size101__AS_extendedode_BDF5_jacobi-richardson_Stol1e-06__EQ_extendedode_BDF5_jacobi-richardson_Stol1e-06.csv', newline='') as csvfile:\n",
    "    reader = csv.DictReader(csvfile)\n",
    "    for row in reader:\n",
    "        if second:\n",
    "            second = 0\n",
    "        if first:\n",
    "            first = 0\n",
    "            second = 1\n",
    "        else:\n",
    "            time = row['time']\n",
    "            dt = float(time) - time_old\n",
    "            time_old = float(time)\n",
    "            time_list_Jacobi.append(time)\n",
    "            dt_array_Jacobi.append(dt)\n",
    "\n",
    "            V_array_Jacobi.append(row['Vmax'])\n",
    "            F_array_Jacobi.append(row['fmax'])\n",
    "            ksp_array_Jacobi.append(row['KSP_iteration'])\n",
    "            rhs_array_Jacobi.append(row['count_rhs'])\n",
    "\n",
    "time_array_Jacobi = np.asarray(time_list_Jacobi, dtype=np.float64)\n",
    "dt_array_Jacobi = np.asarray(dt_array_Jacobi, dtype=np.float64)\n",
    "V_array_Jacobi = np.asarray(V_array_Jacobi, dtype=np.float64)\n",
    "F_array_Jacobi = np.asarray(F_array_Jacobi, dtype=np.float64)\n",
    "ksp_array_Jacobi = np.asarray(ksp_array_Jacobi, dtype=np.float64)\n",
    "rhs_array_Jacobi = np.asarray(rhs_array_Jacobi, dtype=np.float64)\n",
    "\n",
    "time_years_Jacobi = time_array_Jacobi / (365.2425*24*3600)\n"
   ]
  },
  {
   "cell_type": "code",
   "execution_count": 4,
   "metadata": {},
   "outputs": [],
   "source": [
    "time_list_JacobiGMRES = []\n",
    "dt_array_JacobiGMRES = []\n",
    "V_array_JacobiGMRES = []\n",
    "F_array_JacobiGMRES = []\n",
    "ksp_array_JacobiGMRES = []\n",
    "rhs_array_JacobiGMRES = []\n",
    "time_old = 0.0\n",
    "\n",
    "#don't plot first two components\n",
    "first = 1\n",
    "second = 1\n",
    "\n",
    "with open('../results/TANDEM_size101__AS_extendedode_BDF5_jacobi-gmres_Stol1e-06__EQ_extendedode_BDF5_jacobi-gmres_Stol1e-06.csv', newline='') as csvfile:\n",
    "    reader = csv.DictReader(csvfile)\n",
    "    for row in reader:\n",
    "        if second:\n",
    "            second = 0\n",
    "        if first:\n",
    "            first = 0\n",
    "            second = 1\n",
    "        else:\n",
    "            time = row['time']\n",
    "            dt = float(time) - time_old\n",
    "            time_old = float(time)\n",
    "            time_list_JacobiGMRES.append(time)\n",
    "            dt_array_JacobiGMRES.append(dt)\n",
    "\n",
    "            V_array_JacobiGMRES.append(row['Vmax'])\n",
    "            F_array_JacobiGMRES.append(row['fmax'])\n",
    "            ksp_array_JacobiGMRES.append(row['KSP_iteration'])\n",
    "            rhs_array_JacobiGMRES.append(row['count_rhs'])\n",
    "\n",
    "time_array_JacobiGMRES = np.asarray(time_list_JacobiGMRES, dtype=np.float64)\n",
    "dt_array_JacobiGMRES = np.asarray(dt_array_JacobiGMRES, dtype=np.float64)\n",
    "V_array_JacobiGMRES = np.asarray(V_array_JacobiGMRES, dtype=np.float64)\n",
    "F_array_JacobiGMRES = np.asarray(F_array_JacobiGMRES, dtype=np.float64)\n",
    "ksp_array_JacobiGMRES = np.asarray(ksp_array_JacobiGMRES, dtype=np.float64)\n",
    "rhs_array_JacobiGMRES = np.asarray(rhs_array_JacobiGMRES, dtype=np.float64)\n",
    "\n",
    "time_years_JacobiGMRES = time_array_JacobiGMRES / (365.2425*24*3600)\n"
   ]
  },
  {
   "cell_type": "code",
   "execution_count": 5,
   "metadata": {},
   "outputs": [],
   "source": [
    "time_list_SORGMRES = []\n",
    "dt_array_SORGMRES = []\n",
    "V_array_SORGMRES = []\n",
    "F_array_SORGMRES = []\n",
    "ksp_array_SORGMRES = []\n",
    "rhs_array_SORGMRES = []\n",
    "time_old = 0.0\n",
    "\n",
    "#don't plot first two components\n",
    "first = 1\n",
    "second = 1\n",
    "\n",
    "with open('../results/TANDEM_size101__AS_extendedode_BDF5_sor-gmres_Stol1e-06__EQ_extendedode_BDF5_sor-gmres_Stol1e-06.csv', newline='') as csvfile:\n",
    "    reader = csv.DictReader(csvfile)\n",
    "    for row in reader:\n",
    "        if second:\n",
    "            second = 0\n",
    "        if first:\n",
    "            first = 0\n",
    "            second = 1\n",
    "        else:\n",
    "            time = row['time']\n",
    "            dt = float(time) - time_old\n",
    "            time_old = float(time)\n",
    "            time_list_SORGMRES.append(time)\n",
    "            dt_array_SORGMRES.append(dt)\n",
    "\n",
    "            V_array_SORGMRES.append(row['Vmax'])\n",
    "            F_array_SORGMRES.append(row['fmax'])\n",
    "            ksp_array_SORGMRES.append(row['KSP_iteration'])\n",
    "            rhs_array_SORGMRES.append(row['count_rhs'])\n",
    "\n",
    "time_array_SORGMRES = np.asarray(time_list_SORGMRES, dtype=np.float64)\n",
    "dt_array_SORGMRES = np.asarray(dt_array_SORGMRES, dtype=np.float64)\n",
    "V_array_SORGMRES = np.asarray(V_array_SORGMRES, dtype=np.float64)\n",
    "F_array_SORGMRES = np.asarray(F_array_SORGMRES, dtype=np.float64)\n",
    "ksp_array_SORGMRES = np.asarray(ksp_array_SORGMRES, dtype=np.float64)\n",
    "rhs_array_SORGMRES = np.asarray(rhs_array_SORGMRES, dtype=np.float64)\n",
    "\n",
    "time_years_SORGMRES = time_array_SORGMRES / (365.2425*24*3600)\n"
   ]
  },
  {
   "cell_type": "code",
   "execution_count": 6,
   "metadata": {},
   "outputs": [],
   "source": [
    "time_list_LU = []\n",
    "dt_array_LU = []\n",
    "V_array_LU = []\n",
    "F_array_LU = []\n",
    "rhs_array_LU = []\n",
    "time_old = 0.0\n",
    "\n",
    "#don't plot first two components\n",
    "first = 1\n",
    "second = 1\n",
    "\n",
    "with open('../results/TANDEM_size101__AS_extendedode_BDF5_lu-preonly_Stol1e-06__EQ_extendedode_BDF5_lu-preonly_Stol1e-06.csv', newline='') as csvfile:\n",
    "    reader = csv.DictReader(csvfile)\n",
    "    for row in reader:\n",
    "        if second:\n",
    "            second = 0\n",
    "        if first:\n",
    "            first = 0\n",
    "            second = 1\n",
    "        else:\n",
    "            time = row['time']\n",
    "            dt = float(time) - time_old\n",
    "            time_old = float(time)\n",
    "            time_list_LU.append(time)\n",
    "            dt_array_LU.append(dt)\n",
    "\n",
    "            V_array_LU.append(row['Vmax'])\n",
    "            F_array_LU.append(row['fmax'])\n",
    "            rhs_array_LU.append(row['count_rhs'])\n",
    "\n",
    "time_array_LU = np.asarray(time_list_LU, dtype=np.float64)\n",
    "dt_array_LU = np.asarray(dt_array_LU, dtype=np.float64)\n",
    "V_array_LU = np.asarray(V_array_LU, dtype=np.float64)\n",
    "F_array_LU = np.asarray(F_array_LU, dtype=np.float64)\n",
    "rhs_array_LU = np.asarray(rhs_array_LU, dtype=np.float64)\n",
    "\n",
    "time_years_LU = time_array_LU / (365.2425*24*3600)\n"
   ]
  },
  {
   "cell_type": "code",
   "execution_count": 12,
   "metadata": {},
   "outputs": [
    {
     "name": "stdout",
     "output_type": "stream",
     "text": [
      "2nd order ODE - full KSP system\n",
      "                                 Jacobi  Jacobi-GMRES  GS-GMRES     LU\n",
      "Average number of KSP iterations  5.41      4.95       2.57       1.00\n",
      "Average number of RHS evaluations 3.25       2.72       2.72       2.72\n",
      "Total number of timesteps         11504      8308        8321        8306\n",
      "Average final Newton residual   1.91e-07   9.03e-16   7.85e-16   7.41e-16\n"
     ]
    }
   ],
   "source": [
    "print('2nd order ODE - full KSP system')\n",
    "print('                                 Jacobi  Jacobi-GMRES  GS-GMRES     LU')\n",
    "print('Average number of KSP iterations ','%.2f'%np.average(ksp_array_Jacobi),'     %.2f'%np.average(ksp_array_JacobiGMRES),'      %.2f'%np.average(ksp_array_SORGMRES),'      %.2f'%1)\n",
    "print('Average number of RHS evaluations','%.2f'%np.average(rhs_array_Jacobi),'      %.2f'%np.average(rhs_array_JacobiGMRES),'      %.2f'%np.average(rhs_array_SORGMRES),'      %.2f'%np.average(rhs_array_LU))\n",
    "print('Total number of timesteps        ','%.f'%np.size(rhs_array_Jacobi),'     %.f'%np.size(rhs_array_JacobiGMRES),'       %.f'%np.size(rhs_array_SORGMRES),'       %.f'%np.size(rhs_array_LU))\n",
    "print('Average final Newton residual',\"  {:.2e}\".format(np.average(F_array_Jacobi)),\"  {:.2e}\".format(np.average(F_array_JacobiGMRES)),\"  {:.2e}\".format(np.average(F_array_SORGMRES)),\"  {:.2e}\".format(np.average(F_array_LU)))\n"
   ]
  },
  {
   "cell_type": "code",
   "execution_count": 14,
   "metadata": {},
   "outputs": [
    {
     "data": {
      "image/png": "[encoded data removed]",
      "text/plain": [
       "<Figure size 720x504 with 1 Axes>"
      ]
     },
     "metadata": {
      "needs_background": "light"
     },
     "output_type": "display_data"
    }
   ],
   "source": [
    "plt.figure(figsize=(10.00,7.00))\n",
    "plt.rcParams.update({'font.size': 27})\n",
    "\n",
    "plt.plot(dt_array_LU, F_array_LU,'.k')\n",
    "\n",
    "plt.xlabel(\"time step size [s]\")\n",
    "plt.ylabel(\"Maximum residual\")\n",
    "\n",
    "plt.xscale('log')\n",
    "plt.yscale('log')\n",
    "\n",
    "plt.savefig('../results/TANDEMConvergenceAnalysisExtendedODEMaxResidual_Size101.png', format='png',dpi=300, bbox_inches='tight')\n",
    "\n",
    "plt.show()"
   ]
  },
  {
   "cell_type": "code",
   "execution_count": 15,
   "metadata": {},
   "outputs": [
    {
     "name": "stdout",
     "output_type": "stream",
     "text": [
      "\\begin{table}\n",
      "\\begin{tabular}{ | c || c c c | c |}\n",
      "\t\t\\hline\n",
      "\t\t& Jacobi & Jacobi-GMRES & GS-GMRES & LU \\\\ \\hline\\hline\n",
      "\t\tAverage number of iterations per Newton step &  5.41  &    4.95   &    2.57  & -  \\\\\n",
      "\t\tAverage number of Newton steps & 3.25  &     2.72    &   2.72  &     2.72 \\\\\n",
      "\t\tTotal number of timesteps & 11504  &      8308    &    8321    &    8306 \\\\\n",
      "\t\tAverage final Newton residual &   1.91e-07  & 9.03e-16  & 7.85e-16  & 7.41e-16 \\\\ \\hline\n",
      "\\end{tabular}\n",
      "\\caption{Quality of iterative solvers for the Jacobian system on a 5th-order BDF scheme with the 2nd order ODE Formulation on 101 fault elements for 250 years}\n",
      "\\label{tab:extendedODE_iterativeSolversJacobian}\n",
      "\\end{table}\n"
     ]
    }
   ],
   "source": [
    "print('\\\\begin{table}')\n",
    "print('\\\\begin{tabular}{ | c || c c c | c |}')\n",
    "print('\t\t\\hline')\n",
    "print('\t\t& Jacobi & Jacobi-GMRES & GS-GMRES & LU \\\\\\\\ \\\\hline\\\\hline')\n",
    "print('\t\tAverage number of iterations per Newton step & ','%.2f'%np.average(ksp_array_Jacobi),' &    %.2f'%np.average(ksp_array_JacobiGMRES),'  &    %.2f'%np.average(ksp_array_SORGMRES),' & - ', '\\\\\\\\')\n",
    "print('\t\tAverage number of Newton steps &','%.2f'%np.average(rhs_array_Jacobi),' &     %.2f'%np.average(rhs_array_JacobiGMRES),'   &   %.2f'%np.average(rhs_array_SORGMRES),' &     %.2f'%np.average(rhs_array_LU), '\\\\\\\\')\n",
    "print('\t\tTotal number of timesteps &','%.f'%np.size(rhs_array_Jacobi),' &      %.f'%np.size(rhs_array_JacobiGMRES),'   &    %.f'%np.size(rhs_array_SORGMRES),'   &    %.f'%np.size(rhs_array_LU), '\\\\\\\\')\n",
    "print('\t\tAverage final Newton residual &',\"  {:.2e}\".format(np.average(F_array_Jacobi)),\" & {:.2e}\".format(np.average(F_array_JacobiGMRES)),\" & {:.2e}\".format(np.average(F_array_SORGMRES)),\" & {:.2e}\".format(np.average(F_array_LU)), '\\\\\\\\ \\\\hline')\n",
    "print('\\\\end{tabular}')\n",
    "print('\\\\caption{Quality of iterative solvers for the Jacobian system on a 5th-order BDF scheme with the 2nd order ODE Formulation on 101 fault elements for 250 years}')\n",
    "print('\\\\label{tab:extendedODE_iterativeSolversJacobian}')\n",
    "print('\\\\end{table}')\n"
   ]
  },
  {
   "cell_type": "code",
   "execution_count": null,
   "metadata": {},
   "outputs": [],
   "source": []
  },
  {
   "cell_type": "code",
   "execution_count": null,
   "metadata": {},
   "outputs": [],
   "source": []
  }
 ],
 "metadata": {
  "kernelspec": {
   "display_name": "Python 3",
   "language": "python",
   "name": "python3"
  },
  "language_info": {
   "codemirror_mode": {
    "name": "ipython",
    "version": 3
   },
   "file_extension": ".py",
   "mimetype": "text/x-python",
   "name": "python",
   "nbconvert_exporter": "python",
   "pygments_lexer": "ipython3",
   "version": "3.6.9"
  }
 },
 "nbformat": 4,
 "nbformat_minor": 4
}
